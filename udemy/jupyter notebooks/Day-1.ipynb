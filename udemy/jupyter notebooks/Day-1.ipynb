{
 "cells": [
  {
   "cell_type": "code",
   "execution_count": 66,
   "id": "90d8ab48",
   "metadata": {},
   "outputs": [],
   "source": [
    "class human():\n",
    "    \n",
    "    # the below attribute will be same for everytime we call it \n",
    "    caste = 'Brahmin'\n",
    "    \n",
    "    # start specifying attributes\n",
    "    # for a specific time --> instance \n",
    "    def __init__(self,height,name,colour):\n",
    "        \n",
    "        '''\n",
    "        below we are specifying attributes......\n",
    "        \n",
    "        we NEVER CALL ATTRIBUTE WITH A ()\n",
    "        \n",
    "        COZ it does nothing...........\n",
    "        \n",
    "        Just grabs and delivers a information to you........\n",
    "        '''\n",
    "        self.height = (height*2)\n",
    "        # below will assign the 'name' variable to anyone calling it \n",
    "        # like variable = human(name = 'something')\n",
    "        # variable.name = 'somthing'\n",
    "        \n",
    "        self.name = name\n",
    "        self.colour = colour\n",
    "        \n",
    "        \n",
    "        # methods ----> means perform some actions \n",
    "        \n",
    "    def give_info(self,user_calls_then_provides_var):\n",
    "       # name, height = input(\"Please enter name, height by space\").split()\n",
    "         print(f\"Hello {self.name} ! Height --> {self.height} \\nyour caste is {human.caste}\")\n",
    "         print(\"This is the value of a Param that user provided while calling the given_info method --> \",\n",
    "              user_calls_then_provides_var)\n",
    "        \n",
    "        # we give FQDN for the variables... Very exactly to find them\n",
    "        # give_info(self) --> input self to check values\n",
    "         print(\"Avaatr\")"
   ]
  },
  {
   "cell_type": "markdown",
   "id": "8c82514f",
   "metadata": {},
   "source": [
    "### if you give somthing strange to python in give_info():\n",
    "\n",
    "##### Throws below error:\n",
    "\n",
    "\n",
    "\n",
    "---------------------------------------------------------------------------\n",
    "NameError                                 Traceback (most recent call last)\n",
    "~\\AppData\\Local\\Temp\\ipykernel_4712\\1511153728.py in <module>\n",
    "----> 1 mangu.give_info()\n",
    "\n",
    "~\\AppData\\Local\\Temp\\ipykernel_4712\\1759570633.py in give_info(mako)\n",
    "     30     def give_info(mako):\n",
    "     31        # name, height = input(\"Please enter name, height by space\").split()\n",
    "---> 32          print(f\"Hello {self.name} ! Height --> {self.height} \\nyour caste is {human.caste}\")\n",
    "     33 \n",
    "     34         # we give FQDN for the variables... Very exactly to find them\n",
    "\n",
    "NameError: name 'self' is not defined"
   ]
  },
  {
   "cell_type": "code",
   "execution_count": 67,
   "id": "7441ee72",
   "metadata": {},
   "outputs": [],
   "source": [
    "mangu = human(height = 180,name = 'Aansh',colour = 'White')"
   ]
  },
  {
   "cell_type": "code",
   "execution_count": 26,
   "id": "82d008d6",
   "metadata": {},
   "outputs": [
    {
     "data": {
      "text/plain": [
       "'White'"
      ]
     },
     "execution_count": 26,
     "metadata": {},
     "output_type": "execute_result"
    }
   ],
   "source": [
    "mangu.colour\n",
    "\n",
    "\n"
   ]
  },
  {
   "cell_type": "code",
   "execution_count": 30,
   "id": "aa9bed0f",
   "metadata": {},
   "outputs": [
    {
     "data": {
      "text/plain": [
       "'Brahmin'"
      ]
     },
     "execution_count": 30,
     "metadata": {},
     "output_type": "execute_result"
    }
   ],
   "source": [
    "mangu.caste"
   ]
  },
  {
   "cell_type": "code",
   "execution_count": 68,
   "id": "b43c7fcf",
   "metadata": {},
   "outputs": [
    {
     "name": "stdout",
     "output_type": "stream",
     "text": [
      "Hello Aansh ! Height --> 360 \n",
      "your caste is Brahmin\n",
      "This is the value of a Param that user provided while calling the given_info method -->  20\n",
      "Avaatr\n"
     ]
    }
   ],
   "source": [
    "mangu.give_info(20)"
   ]
  },
  {
   "cell_type": "markdown",
   "id": "1c755152",
   "metadata": {},
   "source": [
    "## Inheritance and Polymorphism\n",
    "\n",
    "### Inheritence: Create a Class and Methods ----> Referred as *BASE CLASS*\n",
    "### Reuse the methods in a new class -------> Inherited class\n"
   ]
  },
  {
   "cell_type": "code",
   "execution_count": 83,
   "id": "de1377b0",
   "metadata": {},
   "outputs": [],
   "source": [
    "class Animal():\n",
    "    \n",
    "    def __init__(self):\n",
    "        print(\"This a animal from Base Class!!\")\n",
    "        name = input(\"name: \")\n",
    "        self.name = name\n",
    "        # MANDATORY : specify attribute name above\n",
    "        \n",
    "    # Method 1\n",
    "    def eat(self,name=\"cat\"):\n",
    "        return self.name + \" is eating :)\"\n",
    "    # OTHERWISE you can't use it here\n",
    "    \n",
    "        "
   ]
  },
  {
   "cell_type": "code",
   "execution_count": 84,
   "id": "456e95c3",
   "metadata": {},
   "outputs": [
    {
     "name": "stdout",
     "output_type": "stream",
     "text": [
      "This a animal from Base Class!!\n",
      "name: cat\n"
     ]
    }
   ],
   "source": [
    "dog = Animal()"
   ]
  },
  {
   "cell_type": "code",
   "execution_count": 85,
   "id": "158b59eb",
   "metadata": {},
   "outputs": [
    {
     "data": {
      "text/plain": [
       "'cat is eating :)'"
      ]
     },
     "execution_count": 85,
     "metadata": {},
     "output_type": "execute_result"
    }
   ],
   "source": [
    "dog.eat()"
   ]
  },
  {
   "cell_type": "markdown",
   "id": "7b678589",
   "metadata": {},
   "source": [
    "## INHERITANCE DEMO\n"
   ]
  },
  {
   "cell_type": "code",
   "execution_count": 99,
   "id": "de2da1f0",
   "metadata": {},
   "outputs": [],
   "source": [
    "class dog(Animal):\n",
    "    \n",
    "    def __init__(self):\n",
    "        Animal.__init__(self)\n",
    "        print(\"Message from inherited class!!\")\n",
    "        \n",
    "    # method for this class only\n",
    "    \n",
    "    def bark(self):\n",
    "        print(Animal.name + \"says WOOF!\")"
   ]
  },
  {
   "cell_type": "code",
   "execution_count": 100,
   "id": "2e7ae634",
   "metadata": {},
   "outputs": [
    {
     "name": "stdout",
     "output_type": "stream",
     "text": [
      "This a animal from Base Class!!\n",
      "name: qewrewf\n",
      "Message from inherited class!!\n"
     ]
    }
   ],
   "source": [
    "biscuit = dog()"
   ]
  },
  {
   "cell_type": "code",
   "execution_count": 97,
   "id": "2a29b8b4",
   "metadata": {},
   "outputs": [
    {
     "ename": "AttributeError",
     "evalue": "type object 'Animal' has no attribute 'name'",
     "output_type": "error",
     "traceback": [
      "\u001b[1;31m---------------------------------------------------------------------------\u001b[0m",
      "\u001b[1;31mAttributeError\u001b[0m                            Traceback (most recent call last)",
      "\u001b[1;32m~\\AppData\\Local\\Temp\\ipykernel_4712\\4165694150.py\u001b[0m in \u001b[0;36m<module>\u001b[1;34m\u001b[0m\n\u001b[1;32m----> 1\u001b[1;33m \u001b[0mbiscuit\u001b[0m\u001b[1;33m.\u001b[0m\u001b[0mbark\u001b[0m\u001b[1;33m(\u001b[0m\u001b[1;33m)\u001b[0m\u001b[1;33m\u001b[0m\u001b[1;33m\u001b[0m\u001b[0m\n\u001b[0m",
      "\u001b[1;32m~\\AppData\\Local\\Temp\\ipykernel_4712\\1415909787.py\u001b[0m in \u001b[0;36mbark\u001b[1;34m(self)\u001b[0m\n\u001b[0;32m      8\u001b[0m \u001b[1;33m\u001b[0m\u001b[0m\n\u001b[0;32m      9\u001b[0m     \u001b[1;32mdef\u001b[0m \u001b[0mbark\u001b[0m\u001b[1;33m(\u001b[0m\u001b[0mself\u001b[0m\u001b[1;33m)\u001b[0m\u001b[1;33m:\u001b[0m\u001b[1;33m\u001b[0m\u001b[1;33m\u001b[0m\u001b[0m\n\u001b[1;32m---> 10\u001b[1;33m         \u001b[0mprint\u001b[0m\u001b[1;33m(\u001b[0m\u001b[0mAnimal\u001b[0m\u001b[1;33m.\u001b[0m\u001b[0mname\u001b[0m \u001b[1;33m+\u001b[0m \u001b[1;34m\"says WOOF!\"\u001b[0m\u001b[1;33m)\u001b[0m\u001b[1;33m\u001b[0m\u001b[1;33m\u001b[0m\u001b[0m\n\u001b[0m",
      "\u001b[1;31mAttributeError\u001b[0m: type object 'Animal' has no attribute 'name'"
     ]
    }
   ],
   "source": [
    "biscuit.bark()"
   ]
  },
  {
   "cell_type": "code",
   "execution_count": 101,
   "id": "ce96ac4d",
   "metadata": {},
   "outputs": [
    {
     "data": {
      "text/plain": [
       "'qewrewf is eating :)'"
      ]
     },
     "execution_count": 101,
     "metadata": {},
     "output_type": "execute_result"
    }
   ],
   "source": [
    "### USING BASE CLASS ATTRIBUTE\n",
    "biscuit.eat()"
   ]
  },
  {
   "cell_type": "code",
   "execution_count": null,
   "id": "ea703b5a",
   "metadata": {},
   "outputs": [],
   "source": []
  }
 ],
 "metadata": {
  "kernelspec": {
   "display_name": "Python 3 (ipykernel)",
   "language": "python",
   "name": "python3"
  },
  "language_info": {
   "codemirror_mode": {
    "name": "ipython",
    "version": 3
   },
   "file_extension": ".py",
   "mimetype": "text/x-python",
   "name": "python",
   "nbconvert_exporter": "python",
   "pygments_lexer": "ipython3",
   "version": "3.9.13"
  }
 },
 "nbformat": 4,
 "nbformat_minor": 5
}
